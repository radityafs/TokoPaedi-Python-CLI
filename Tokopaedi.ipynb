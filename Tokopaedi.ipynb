{
  "nbformat": 4,
  "nbformat_minor": 0,
  "metadata": {
    "colab": {
      "name": "Kelompok 1 - UAS Python.ipynb",
      "provenance": [],
      "collapsed_sections": []
    },
    "kernelspec": {
      "name": "python3",
      "display_name": "Python 3"
    },
    "language_info": {
      "name": "python"
    }
  },
  "cells": [
    {
      "cell_type": "markdown",
      "source": [
        "#**Aplikasi Marketplace TokoPaedi**"
      ],
      "metadata": {
        "id": "hCDVePENQobc"
      }
    },
    {
      "cell_type": "markdown",
      "source": [
        "##**Fitur**\n",
        "\n",
        "1. Registrasi User\n",
        "2. Login User\n",
        "3. Menampilkan Semua Produk\n",
        "4. Beli Produk\n",
        "5. Menampilkan Transaksi Pembelian\n",
        "6. Menampilkan Produk saya\n",
        "7. Tambah Produk\n",
        "8. Menampilkan Transaksi toko\n",
        "9. Menampilkan Grafik Penjualan\n",
        "10. Isi Saldo"
      ],
      "metadata": {
        "id": "j0gnNin2RZnq"
      }
    },
    {
      "cell_type": "markdown",
      "source": [
        "##**Library**\n",
        "\n",
        "\n",
        "1.   Tabulate : untuk print Data kedalam bentuk tabel\n",
        "2.   Matplotlib : Visualisasi Data\n",
        "3.   JSON : untuk handling / parse Data JSON\n",
        "4.   OS : library bawaan untuk check file dan eksekusi shell\n",
        "5.   Ipython : Clear / hapus log output di jupyter notebook\n",
        "\n",
        "\n",
        "\n"
      ],
      "metadata": {
        "id": "6W0b6Z7d2s-C"
      }
    },
    {
      "cell_type": "code",
      "execution_count": null,
      "metadata": {
        "id": "RWQUBkGZD4lL"
      },
      "outputs": [],
      "source": [
        "import tabulate\n",
        "import matplotlib.pyplot as plt\n",
        "import json\n",
        "import os\n",
        "from IPython.display import clear_output "
      ]
    },
    {
      "cell_type": "markdown",
      "source": [
        "variabel database digunakan untuk menyimpan dan mengakses data , dari aplikasi yang dibuat"
      ],
      "metadata": {
        "id": "HGW0OUkWFvxs"
      }
    },
    {
      "cell_type": "code",
      "source": [
        "database = {}"
      ],
      "metadata": {
        "id": "gQ4QwbcBFETs"
      },
      "execution_count": null,
      "outputs": []
    },
    {
      "cell_type": "markdown",
      "source": [
        "fungsi baris dibawah adalah\n",
        "mengecek apakah ada file database.json, jika ada akan dijadikan sebagai value dari database"
      ],
      "metadata": {
        "id": "c29zUkGICv42"
      }
    },
    {
      "cell_type": "code",
      "source": [
        "if os.path.isfile(\"database.json\"):\n",
        "    with open(\"database.json\", \"r\") as file:\n",
        "        database = json.load(file)\n",
        "else:\n",
        "    database = {\n",
        "        \"pengguna\": [],\n",
        "        \"barang\": [],\n",
        "        \"transaksi\": []\n",
        "    }"
      ],
      "metadata": {
        "id": "VgiObaKOGw5h"
      },
      "execution_count": null,
      "outputs": []
    },
    {
      "cell_type": "markdown",
      "source": [
        "**function clearOutput** : digunakan untuk menghapus log / output agar tidak timpang tindih saat aplikasi berjalan\n",
        "\n",
        "function ini dapat menyesuaikan environtment yang digunakan"
      ],
      "metadata": {
        "id": "hCTE82TiGQg-"
      }
    },
    {
      "cell_type": "code",
      "source": [
        "def clearOutput():\n",
        "    if os.name == \"nt\": os.system(\"cls\")\n",
        "    elif os.name == \"posix\": clear_output(wait=True)\n",
        "    else : os.system(\"clear\")"
      ],
      "metadata": {
        "id": "IybH1W37HNUz"
      },
      "execution_count": null,
      "outputs": []
    },
    {
      "cell_type": "markdown",
      "source": [
        "**function checkUsername** : digunakan untuk mengecek apakah username yang dilemparkan dari parameter sudah ada di database, dengan melakukan pengecekan atau looping"
      ],
      "metadata": {
        "id": "o3UrObZJGhYS"
      }
    },
    {
      "cell_type": "code",
      "source": [
        "def checkUsername(username):\n",
        "    for pengguna in database[\"pengguna\"]:\n",
        "        if(pengguna[\"username\"] == username):\n",
        "            return True\n",
        "    return False"
      ],
      "metadata": {
        "id": "vLSXLzTbIoxL"
      },
      "execution_count": null,
      "outputs": []
    },
    {
      "cell_type": "markdown",
      "source": [
        "**function registrasiUser** : digunakan untuk mendaftarkan atau menambahkan user kedalam database"
      ],
      "metadata": {
        "id": "bawQE1AAG2z8"
      }
    },
    {
      "cell_type": "code",
      "source": [
        "def registrasiUser(username, password, nama):\n",
        "    if not checkUsername(username):\n",
        "        database[\"pengguna\"].append({\n",
        "            \"nama\": nama,\n",
        "            \"username\": username,\n",
        "            \"password\": password,\n",
        "            \"saldo\": 0\n",
        "        })\n",
        "        return True\n",
        "    else:\n",
        "        return False"
      ],
      "metadata": {
        "id": "Ljm9LzFhKw30"
      },
      "execution_count": null,
      "outputs": []
    },
    {
      "cell_type": "markdown",
      "source": [
        "**function loginUser** : digunakan untuk melakukan authentikasi / verifikasi apakah username dan password yang dilemparkan dari parameter ada yang sesuai dengan yang ada di database"
      ],
      "metadata": {
        "id": "9aMU1OpuHAk0"
      }
    },
    {
      "cell_type": "code",
      "source": [
        "def loginUser(username, password):\n",
        "    for index, pengguna in enumerate(database[\"pengguna\"]):\n",
        "        if pengguna[\"username\"] == username and pengguna[\"password\"] == password:\n",
        "            return index\n",
        "    return False"
      ],
      "metadata": {
        "id": "jbPGlwmlObxP"
      },
      "execution_count": null,
      "outputs": []
    },
    {
      "cell_type": "markdown",
      "source": [
        "**function tambahBarang** : digunakan untuk menambahkan barang atau produk kedalam database"
      ],
      "metadata": {
        "id": "lkJFROUuHMz3"
      }
    },
    {
      "cell_type": "code",
      "source": [
        "def tambahBarang(namaProduk, hargaProduk, stokProduk, username):\n",
        "    if checkUsername(username):\n",
        "        database[\"barang\"].append({\n",
        "            \"idProduk\": len(database[\"barang\"]) + 1,\n",
        "            \"namaProduk\": namaProduk,\n",
        "            \"hargaProduk\": int(hargaProduk),\n",
        "            \"stokProduk\": int(stokProduk),\n",
        "            \"pemilik\": username\n",
        "        })\n",
        "        return True\n",
        "    return False"
      ],
      "metadata": {
        "id": "Tv_m6wPZLYGU"
      },
      "execution_count": null,
      "outputs": []
    },
    {
      "cell_type": "markdown",
      "source": [
        "**function tampilSemuaProduk** : digunakan untuk menampilkan semua produk berdasarkan parameter action yang diberikan\n",
        "\n",
        "jika parameter yang diberikan = buy maka akan \n",
        "menampilkan produk yang dapat dibeli\n",
        "\n",
        "jika parameter yang diberikan = sell maka akan menampilkan produk yang dijual dari parameter username\n",
        "\n",
        "list produk akan ditampilkan dalam bentuk tabel menggunakan function tabulate dari library tabulate"
      ],
      "metadata": {
        "id": "uTeCD2dUHTRu"
      }
    },
    {
      "cell_type": "code",
      "source": [
        "def tampilSemuaProduk(username, action):\n",
        "    produkTampil = []\n",
        "\n",
        "    if action == \"buy\":\n",
        "        for produk in database[\"barang\"]:\n",
        "            if produk[\"pemilik\"] != username:\n",
        "                produkTampil.append(produk.values())\n",
        "    elif action == \"sell\":\n",
        "        for produk in database[\"barang\"]:\n",
        "            if produk[\"pemilik\"] == username:\n",
        "                produkTampil.append(produk.values())\n",
        "\n",
        "    print(tabulate.tabulate(produkTampil, headers=[\n",
        "          \"ID\", \"Nama Produk\", \"Harga Produk\", \"Stok Produk\", \"Pemilik\"]))"
      ],
      "metadata": {
        "id": "s6dOvcsbPmsZ"
      },
      "execution_count": null,
      "outputs": []
    },
    {
      "cell_type": "markdown",
      "source": [
        "**function getSaldo** : digunakan untuk mengakses / mendapatkan informasi saldo user dari database"
      ],
      "metadata": {
        "id": "AJEyUOm9IeQ2"
      }
    },
    {
      "cell_type": "code",
      "source": [
        "def getSaldo(username):\n",
        "    for index, pengguna in enumerate(database[\"pengguna\"]):\n",
        "        if pengguna[\"username\"] == username:\n",
        "            return database[\"pengguna\"][index][\"saldo\"]\n",
        "    return False"
      ],
      "metadata": {
        "id": "oU8WNeQLQjUU"
      },
      "execution_count": null,
      "outputs": []
    },
    {
      "cell_type": "markdown",
      "source": [
        "**function getIndexPengguna** : digunakan untuk mendapatkan Index dari array pengguna yang sesuai dengan parameter user"
      ],
      "metadata": {
        "id": "EbtCO9koIl-n"
      }
    },
    {
      "cell_type": "code",
      "source": [
        "def getIndexPengguna(username):\n",
        "    for index, pengguna in enumerate(database[\"pengguna\"]):\n",
        "        if pengguna[\"username\"] == username:\n",
        "            return index\n",
        "    return False"
      ],
      "metadata": {
        "id": "uy6Hiv3zQnoM"
      },
      "execution_count": null,
      "outputs": []
    },
    {
      "cell_type": "markdown",
      "source": [
        "**function transaksi** digunakan untuk melakukan transaksi\n",
        "\n",
        "didalam fungsi transaksi terdapat beberapa validasi antara lain :\n",
        "\n",
        "1.   pemilik produk tidak boleh melakukan pembelian pada produknya sendiri \n",
        "2.   saldo pembeli harus sama atau melebihi total transaksi\n",
        "3.   stok barang harus sama atau melebihi total barang yang ingin dibeli\n",
        "\n",
        "\n",
        "setelah berhasil dilakukan validasi akan dilakukan : \n",
        "1. Update saldo pembeli dan penjual\n",
        "2. Update stok barang\n",
        "3. Penambahan data transaksi ke dalam database\n"
      ],
      "metadata": {
        "id": "HL0c-6ZuIyFD"
      }
    },
    {
      "cell_type": "code",
      "source": [
        "def transaksi(username, idProduk, jumlahBeli):\n",
        "    for index, produk in enumerate(database[\"barang\"]):\n",
        "        if produk[\"idProduk\"] == int(idProduk):\n",
        "            if produk[\"pemilik\"] == username:\n",
        "                print(\"Tidak boleh membeli produk milik anda sendiri\")\n",
        "                return False\n",
        "\n",
        "            if(getSaldo(username) >= produk[\"hargaProduk\"] * int(jumlahBeli)):\n",
        "                if(produk[\"stokProduk\"] >= int(jumlahBeli)):\n",
        "                    # Update Saldo\n",
        "                    database[\"pengguna\"][getIndexPengguna(\n",
        "                        username)][\"saldo\"] -= produk[\"hargaProduk\"] * int(jumlahBeli)\n",
        "                    database[\"pengguna\"][getIndexPengguna(\n",
        "                        produk[\"pemilik\"])][\"saldo\"] += produk[\"hargaProduk\"] * int(jumlahBeli)\n",
        "\n",
        "                    # Update Stok\n",
        "                    database[\"barang\"][index][\"stokProduk\"] -= int(jumlahBeli)\n",
        "\n",
        "                    # Menambahkan Transaksi\n",
        "                    database[\"transaksi\"].append({\n",
        "                        \"idTransaksi\": len(database[\"transaksi\"]) + 1,\n",
        "                        \"idProduk\": int(idProduk),\n",
        "                        \"namaProduk\": produk[\"namaProduk\"],\n",
        "                        \"jumlah\": int(jumlahBeli),\n",
        "                        \"totalTransaksi\": produk[\"hargaProduk\"] * int(jumlahBeli),\n",
        "                        \"buyer\": username,\n",
        "                        \"seller\": produk[\"pemilik\"]\n",
        "                    })\n",
        "                    return True\n",
        "                else:\n",
        "                    print(\"Stok tidak mencukupi\")\n",
        "                    return False\n",
        "            else:\n",
        "                print(\"Saldo tidak mencukupi\")\n",
        "                return False\n",
        "    print(\"Tidak ada barang dengan id tersebut\")\n",
        "    return False"
      ],
      "metadata": {
        "id": "5A2NRD_8ZDEN"
      },
      "execution_count": null,
      "outputs": []
    },
    {
      "cell_type": "markdown",
      "source": [
        "**function tambahSaldo** : digunakan untuk menambahkan saldo kedalam database user"
      ],
      "metadata": {
        "id": "v4XEFICeJw52"
      }
    },
    {
      "cell_type": "code",
      "source": [
        "def tambahSaldo(username, jumlahDeposit):\n",
        "    index = getIndexPengguna(username)\n",
        "    if type(index) == int:\n",
        "        database[\"pengguna\"][index][\"saldo\"] += int(jumlahDeposit)\n",
        "        return True\n",
        "    return False"
      ],
      "metadata": {
        "id": "WJsKO99TZGKS"
      },
      "execution_count": null,
      "outputs": []
    },
    {
      "cell_type": "markdown",
      "source": [
        "**function getTransaksi** : digunakan untuk menampilkan semua transaksi berdasarkan parameter action yang diberikan\n",
        "\n",
        "jika parameter yang diberikan = buy maka akan \n",
        "menampilkan histori transaksi pembelian yang pernah dilakukan\n",
        "\n",
        "jika parameter yang diberikan = sell maka akan menampilkan histori transaksi penjualan yang pernah dilakukan\n",
        "\n",
        "list histori transaksi akan ditampilkan dalam bentuk tabel menggunakan function tabulate dari library tabulate"
      ],
      "metadata": {
        "id": "_gaLI5djQh7c"
      }
    },
    {
      "cell_type": "code",
      "source": [
        "def getTransaksi(username, action):\n",
        "    transaksiTampil = []\n",
        "\n",
        "    if action == \"buy\":\n",
        "        for transaksi in database[\"transaksi\"]:\n",
        "            if transaksi[\"buyer\"] == username:\n",
        "                transaksiTampil.append(transaksi.values())\n",
        "\n",
        "    elif action == \"sell\":\n",
        "        for transaksi in database[\"transaksi\"]:\n",
        "            if transaksi[\"seller\"] == username:\n",
        "                transaksiTampil.append(transaksi.values())\n",
        "\n",
        "    else:\n",
        "        return False\n",
        "\n",
        "    print(tabulate.tabulate(transaksiTampil, headers=[\n",
        "          \"ID\", \"ID Produk\", \"Nama Produk\", \"Jumlah\", \"Total Transaksi\", \"Buyer\", \"Seller\"]))"
      ],
      "metadata": {
        "id": "QO8woEo6ZIo3"
      },
      "execution_count": null,
      "outputs": []
    },
    {
      "cell_type": "markdown",
      "source": [
        "**function grafikPenjualan** : digunakan untuk menampilkan grafik penjualan dalam bentuk bar plot, agar memudahkan penjual dalam melihat transaksi produk yang paling laku\n",
        "\n",
        "dalam membuat visualisasi data kami menggunakan library dari matplotlib"
      ],
      "metadata": {
        "id": "YsNpXc5lKArW"
      }
    },
    {
      "cell_type": "code",
      "source": [
        "def grafikPenjualan(username):\n",
        "    namaProduk = tuple()\n",
        "    hargaPenjualan = []\n",
        "\n",
        "    for transaksi in database[\"transaksi\"]:\n",
        "        if transaksi[\"seller\"] == username:\n",
        "            if transaksi[\"namaProduk\"] not in namaProduk:\n",
        "                namaProduk += (transaksi[\"namaProduk\"],)\n",
        "                hargaPenjualan += (transaksi[\"totalTransaksi\"],)\n",
        "            else:\n",
        "                hargaPenjualan[namaProduk.index(\n",
        "                    transaksi[\"namaProduk\"])] += transaksi[\"totalTransaksi\"]\n",
        "\n",
        "    plt.bar(list(namaProduk), list(hargaPenjualan))\n",
        "    plt.title(\"Grafik Penjualan\")\n",
        "    plt.xlabel(\"Nama Produk\")\n",
        "    plt.ylabel(\"Total Penjualan\")\n",
        "    plt.show()\n"
      ],
      "metadata": {
        "id": "e7-uSRXcZJUT"
      },
      "execution_count": null,
      "outputs": []
    },
    {
      "cell_type": "markdown",
      "source": [
        "kode dibawah digunakan sebagai state / acuan dalam menampilkan menu\n",
        "\n",
        "1. jika status isLoggedIn = True maka akan dianggap sudah berhasil login dan masuk kedalam menu User\n",
        "2. jika status isLoggedIn = False maka akan diarahkan ke menu authentikasi untuk melakukan registrasi maupun login"
      ],
      "metadata": {
        "id": "qLHToBIEZVij"
      }
    },
    {
      "cell_type": "code",
      "source": [
        "state = {\n",
        "    \"isLoggedIn\": False,\n",
        "    \"username\": None\n",
        "}"
      ],
      "metadata": {
        "id": "NEoDeitQZMuh"
      },
      "execution_count": null,
      "outputs": []
    },
    {
      "cell_type": "markdown",
      "source": [
        "Kode dibawah digunakan untuk menjalankan aplikasi, berisi logic logic untuk memanggil function function yang sudah dibuat sebelumnya"
      ],
      "metadata": {
        "id": "7g-S5tGzKrQm"
      }
    },
    {
      "cell_type": "code",
      "source": [
        "while True:\n",
        "    clearOutput()\n",
        "    if not state[\"isLoggedIn\"]:\n",
        "        print(\"Selamat Datang di TokoPaedi\")\n",
        "        print(\"Silahkan pilih menu berikut : \")\n",
        "        print(\"1. Daftar\")\n",
        "        print(\"2. Login\")\n",
        "        print(\"3. Keluar\")\n",
        "        aksiPertama = input(\"Masukan pilihan anda : \")\n",
        "        if aksiPertama == \"1\":\n",
        "            username = input(\"Masukan username : \")\n",
        "            if not username.isspace() and not username.isalpha():\n",
        "                print(\"Username tidak boleh mengandung spasi dan harus berupa huruf\")\n",
        "                continue\n",
        "            password = input(\"Masukan password : \")\n",
        "            nama = input(\"Masukan nama : \")\n",
        "            registrasi = registrasiUser(username, password, nama)\n",
        "            if registrasi == False:\n",
        "                print(\"Gagal Daftar! Username sudah ada\")\n",
        "                continue\n",
        "            else:\n",
        "                print(\"Registrasi berhasil\")\n",
        "                state = {\n",
        "                    \"isLoggedIn\": True,\n",
        "                    \"username\": username\n",
        "                }\n",
        "                continue\n",
        "        elif aksiPertama == \"2\":\n",
        "            username = input(\"Masukan username : \")\n",
        "            password = input(\"Masukan password : \")\n",
        "            login = loginUser(username, password)\n",
        "            if type(login) == bool:\n",
        "                print(\"Gagal Login ! Username atau password salah\")\n",
        "                continue\n",
        "            else:\n",
        "                state = {\n",
        "                    \"isLoggedIn\": True,\n",
        "                    \"username\": username\n",
        "                }\n",
        "                continue\n",
        "        elif aksiPertama == \"3\":\n",
        "            with open('database.json', 'w') as outfile:\n",
        "                json.dump(database, outfile, indent=4)\n",
        "            print(\"Terima kasih telah menggunakan layanan kami\")\n",
        "            break\n",
        "        else:\n",
        "            print(\"Menu yang anda pilih tidak tersedia\")\n",
        "    else:\n",
        "        username = state[\"username\"]\n",
        "        saldo = database[\"pengguna\"][getIndexPengguna(username)][\"saldo\"]\n",
        "        nama = database[\"pengguna\"][getIndexPengguna(username)][\"nama\"]\n",
        "\n",
        "        print(f\"Selamat Datang {nama},\\ndi TokoPaedi\")\n",
        "        print(f\"Saldo anda saat ini : {saldo}\\n\")\n",
        "        print(\"Silahkan pilih menu berikut : \")\n",
        "        print(\"1. Tampilkan Semua Produk\")\n",
        "        print(\"2. Beli Produk\")\n",
        "        print(\"3. Lihat Transaksi Pembelian\")\n",
        "        print(\"4. Tampilkan Produk saya\")\n",
        "        print(\"5. Tambah Produk\")\n",
        "        print(\"6. Lihat Transaksi toko\")\n",
        "        print(\"7. Tampilkan Grafik Penjualan\")\n",
        "        print(\"8. Isi Saldo\")\n",
        "        print(\"9. Logout\")\n",
        "        aksiKedua = input(\"Masukan pilihan anda : \")\n",
        "        if aksiKedua == \"1\":\n",
        "            tampilSemuaProduk(username, \"buy\")\n",
        "        elif aksiKedua == \"2\":\n",
        "            tampilSemuaProduk(username, \"buy\")\n",
        "            idProduk = input(\"Masukan id produk yang ingin anda beli : \")\n",
        "            jumlahProduk = input(\n",
        "                \"Masukan jumlah produk yang ingin anda beli : \")\n",
        "            Transaksi = transaksi(username, idProduk, jumlahProduk)\n",
        "            if Transaksi == False:\n",
        "                print(\"Transaksi gagal\")\n",
        "            else:\n",
        "                print(\"Transaksi berhasil\")\n",
        "        elif aksiKedua == \"3\":\n",
        "            getTransaksi(username, \"buy\")\n",
        "        elif aksiKedua == \"4\":\n",
        "            tampilSemuaProduk(username, \"sell\")\n",
        "        elif aksiKedua == \"5\":\n",
        "            namaProduk = input(\"Masukan nama produk : \")\n",
        "            hargaProduk = input(\"Masukan harga produk : \")\n",
        "            if not hargaProduk.isdigit():\n",
        "                print(\"Harga produk harus berupa angka\")\n",
        "                continue\n",
        "            stokProduk = input(\"Masukan stok produk : \")\n",
        "            if not stokProduk.isdigit():\n",
        "                print(\"Stok produk harus berupa angka\")\n",
        "                continue\n",
        "            tambahProduk = tambahBarang(\n",
        "                namaProduk, hargaProduk, stokProduk, username)\n",
        "            if tambahProduk == False:\n",
        "                print(\"Gagal Tambah Produk\")\n",
        "            else:\n",
        "                print(\"Tambah Produk Berhasil\")\n",
        "        elif aksiKedua == \"6\":\n",
        "            getTransaksi(username, \"sell\")\n",
        "        elif aksiKedua == \"7\":\n",
        "            grafikPenjualan(username)\n",
        "        elif aksiKedua == \"8\":\n",
        "            jumlahDeposit = input(\"Masukan jumlah deposit : \")\n",
        "            if not jumlahDeposit.isdigit():\n",
        "                print(\"Jumlah deposit harus berupa angka\")\n",
        "                continue\n",
        "            deposit = tambahSaldo(username, jumlahDeposit)\n",
        "            if deposit == False:\n",
        "                print(\"Gagal Tambah Saldo\")\n",
        "            else:\n",
        "                print(\"Tambah Saldo Berhasil\")\n",
        "        elif aksiKedua == \"9\":\n",
        "            state = {\n",
        "                \"isLoggedIn\": False,\n",
        "                \"username\": None\n",
        "            }\n",
        "            continue\n",
        "        else:\n",
        "            print(\"Menu yang anda pilih tidak tersedia\")\n",
        "    input(\"Tekan enter untuk melanjutkan...\")"
      ],
      "metadata": {
        "id": "ePJDYVgXZN1s",
        "colab": {
          "base_uri": "https://localhost:8080/"
        },
        "outputId": "de67644d-471e-4dbf-fe5d-74ed23285d26"
      },
      "execution_count": null,
      "outputs": [
        {
          "output_type": "stream",
          "name": "stdout",
          "text": [
            "Selamat Datang di TokoPaedi\n",
            "Silahkan pilih menu berikut : \n",
            "1. Daftar\n",
            "2. Login\n",
            "3. Keluar\n",
            "Masukan pilihan anda : 3\n",
            "Terima kasih telah menggunakan layanan kami\n"
          ]
        }
      ]
    }
  ]
}